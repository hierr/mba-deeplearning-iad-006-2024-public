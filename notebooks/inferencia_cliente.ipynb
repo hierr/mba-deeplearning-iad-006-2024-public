{
 "cells": [
  {
   "cell_type": "code",
   "execution_count": 1,
   "metadata": {},
   "outputs": [],
   "source": [
    "import base64\n",
    "from PIL import Image\n",
    "import requests\n",
    "import io\n"
   ]
  },
  {
   "cell_type": "code",
   "execution_count": 2,
   "metadata": {},
   "outputs": [],
   "source": [
    "image = Image.open('../imagens/imagem_negativa.png').resize((28, 28))"
   ]
  },
  {
   "cell_type": "code",
   "execution_count": 3,
   "metadata": {},
   "outputs": [],
   "source": [
    "image_bytes = io.BytesIO()\n",
    "image.save(image_bytes, format='PNG')\n",
    "image_str = base64.b64encode(image_bytes.getvalue()).decode('utf-8')"
   ]
  },
  {
   "cell_type": "code",
   "execution_count": 5,
   "metadata": {},
   "outputs": [
    {
     "name": "stdout",
     "output_type": "stream",
     "text": [
      "{'prediction': 2.0}\n"
     ]
    }
   ],
   "source": [
    "url_base = 'http://localhost:8000'\n",
    "\n",
    "# response_hc = requests.get(url_base + '/healthcheck')\n",
    "# print(response_hc.json())\n",
    "\n",
    "payload = {'image': image_str}\n",
    "response_predict = requests.post(f'{url_base}/predict', json=payload)\n",
    "print(response_predict.json())"
   ]
  }
 ],
 "metadata": {
  "kernelspec": {
   "display_name": "Python 3",
   "language": "python",
   "name": "python3"
  },
  "language_info": {
   "codemirror_mode": {
    "name": "ipython",
    "version": 3
   },
   "file_extension": ".py",
   "mimetype": "text/x-python",
   "name": "python",
   "nbconvert_exporter": "python",
   "pygments_lexer": "ipython3",
   "version": "3.12.1"
  }
 },
 "nbformat": 4,
 "nbformat_minor": 2
}
