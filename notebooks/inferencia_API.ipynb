{
 "cells": [
  {
   "cell_type": "code",
   "execution_count": 15,
   "metadata": {},
   "outputs": [],
   "source": [
    "from fastapi import FastAPI\n",
    "from pydantic import BaseModel\n",
    "import numpy as np\n",
    "import pickle as pk\n",
    "import base64\n",
    "from PIL import Image\n",
    "import io\n",
    "from contextlib import asynccontextmanager"
   ]
  },
  {
   "cell_type": "code",
   "execution_count": 16,
   "metadata": {},
   "outputs": [],
   "source": [
    "import uvicorn\n",
    "import nest_asyncio\n",
    "nest_asyncio.apply()"
   ]
  },
  {
   "cell_type": "code",
   "execution_count": 17,
   "metadata": {},
   "outputs": [],
   "source": [
    "# data classes\n",
    "class PredictionResponse(BaseModel):\n",
    "    prediction: float\n",
    "\n",
    "class ImageRequest(BaseModel):\n",
    "    image: str"
   ]
  },
  {
   "cell_type": "code",
   "execution_count": 21,
   "metadata": {},
   "outputs": [],
   "source": [
    "# lifecicle - app\n",
    "\n",
    "@asynccontextmanager\n",
    "async def lifespan(app: FastAPI):\n",
    "    global xgb_model\n",
    "    with open('../modelos/model_tree.pkl', 'rb') as f:\n",
    "        xgb_model = pk.load(f)\n",
    "\n",
    "    yield; del xgb_model\n",
    "\n",
    "app = FastAPI(lifespan=lifespan)"
   ]
  },
  {
   "cell_type": "code",
   "execution_count": 22,
   "metadata": {},
   "outputs": [],
   "source": [
    "#predict\n",
    "@app.post('/predict', response_model=PredictionResponse)\n",
    "async def predict(request: ImageRequest):\n",
    "    img_bytes = base64.b64decode(request.image)\n",
    "    img = Image.open(io.BytesIO(img_bytes)).resize((28, 28))\n",
    "    img_array = np.array(img)\n",
    "    img_array_gs = np.dot(img_array[..., :3], [.2989, .5870, .1140]).reshape(1, -1)\n",
    "\n",
    "    return {'prediction': xgb_model.predict(img_array_gs)}"
   ]
  },
  {
   "cell_type": "code",
   "execution_count": 23,
   "metadata": {},
   "outputs": [],
   "source": [
    "#healthcheck\n",
    "@app.get('/healthcheck')\n",
    "async def healthcheck():\n",
    "    return {'status': 'alive'}"
   ]
  },
  {
   "cell_type": "code",
   "execution_count": 24,
   "metadata": {},
   "outputs": [
    {
     "name": "stderr",
     "output_type": "stream",
     "text": [
      "INFO:     Started server process [81279]\n",
      "INFO:     Waiting for application startup.\n",
      "INFO:     Application startup complete.\n",
      "INFO:     Uvicorn running on http://localhost:8000 (Press CTRL+C to quit)\n",
      "INFO:     Shutting down\n",
      "INFO:     Waiting for application shutdown.\n",
      "INFO:     Application shutdown complete.\n",
      "INFO:     Finished server process [81279]\n"
     ]
    }
   ],
   "source": [
    "uvicorn.run(app, host='localhost', port=8000)"
   ]
  }
 ],
 "metadata": {
  "kernelspec": {
   "display_name": "Python 3",
   "language": "python",
   "name": "python3"
  },
  "language_info": {
   "codemirror_mode": {
    "name": "ipython",
    "version": 3
   },
   "file_extension": ".py",
   "mimetype": "text/x-python",
   "name": "python",
   "nbconvert_exporter": "python",
   "pygments_lexer": "ipython3",
   "version": "3.12.1"
  }
 },
 "nbformat": 4,
 "nbformat_minor": 2
}
